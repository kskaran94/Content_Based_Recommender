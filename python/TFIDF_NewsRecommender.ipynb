{
 "cells": [
  {
   "cell_type": "markdown",
   "metadata": {
    "collapsed": true
   },
   "source": [
    "# TF-IDF based Recommender System\n",
    "\n",
    "### Recommender System based on tf-idf as vector representation of documents"
   ]
  },
  {
   "cell_type": "markdown",
   "metadata": {},
   "source": [
    "# TF-IDF Based Recommender\n",
    "1. Represent articles in terms of bag of words\n",
    "2. Represent user in terms of read articles associated words\n",
    "3. Generate TF-IDF matrix for user read articles and unread articles\n",
    "4. Calculate cosine similarity between user read articles and unread articles \n",
    "5. Get the recommended articles "
   ]
  },
  {
   "cell_type": "markdown",
   "metadata": {},
   "source": [
    "**Describing parameters**:\n",
    "\n",
    "*1. PATH_NEWS_ARTICLES: specify the path where news_article.csv is present*  <br/>\n",
    "*2. ARTICLES_READ: List of Article_Ids read by the user*  <br/>\n",
    "*3. NO_RECOMMENDED_ARTICLES: Refers to the number of recommended articles as a result*"
   ]
  },
  {
   "cell_type": "code",
   "execution_count": 1,
   "metadata": {
    "collapsed": true
   },
   "outputs": [],
   "source": [
    "PATH_NEWS_ARTICLES=\"news_articles.csv\"\n",
    "ARTICLES_READ=[2,7]\n",
    "NUM_RECOMMENDED_ARTICLES=5"
   ]
  },
  {
   "cell_type": "code",
   "execution_count": 2,
   "metadata": {},
   "outputs": [],
   "source": [
    "try:\n",
    "    import numpy\n",
    "    import pandas as pd\n",
    "    import pickle as pk\n",
    "    from sklearn.feature_extraction.text import TfidfVectorizer\n",
    "    from sklearn.metrics.pairwise import cosine_similarity\n",
    "    import re\n",
    "    from nltk.stem.snowball import SnowballStemmer\n",
    "    import nltk\n",
    "    stemmer = SnowballStemmer(\"english\")\n",
    "except ImportError:\n",
    "    print('You are missing some packages! ' \\\n",
    "          'We will try installing them before continuing!')\n",
    "    !pip install \"numpy\" \"pandas\" \"sklearn\" \"nltk\"\n",
    "    import numpy\n",
    "    import pandas as pd\n",
    "    import pickle as pk\n",
    "    from sklearn.feature_extraction.text import TfidfVectorizer\n",
    "    from sklearn.metrics.pairwise import cosine_similarity\n",
    "    import re\n",
    "    from nltk.stem.snowball import SnowballStemmer\n",
    "    import nltk\n",
    "    stemmer = SnowballStemmer(\"english\")\n",
    "    print('Done!')"
   ]
  },
  {
   "cell_type": "markdown",
   "metadata": {},
   "source": [
    "## 1. Represent articles in terms of bag of words\n",
    "\n",
    "1. Reading the csv file to get the Article id, Title and News Content\n",
    "2. Remove punctuation marks and other symbols from each article\n",
    "3. Tokenize each article\n",
    "4. Stem token of every article"
   ]
  },
  {
   "cell_type": "code",
   "execution_count": 3,
   "metadata": {},
   "outputs": [
    {
     "data": {
      "text/html": [
       "<div>\n",
       "<table border=\"1\" class=\"dataframe\">\n",
       "  <thead>\n",
       "    <tr style=\"text-align: right;\">\n",
       "      <th></th>\n",
       "      <th>Article_Id</th>\n",
       "      <th>Title</th>\n",
       "      <th>Author</th>\n",
       "      <th>Date</th>\n",
       "      <th>Content</th>\n",
       "      <th>URL</th>\n",
       "    </tr>\n",
       "  </thead>\n",
       "  <tbody>\n",
       "    <tr>\n",
       "      <th>0</th>\n",
       "      <td>0</td>\n",
       "      <td>14 dead after bus falls into canal in Telangan...</td>\n",
       "      <td>Devyani Sultania</td>\n",
       "      <td>August 22, 2016 12:34 IST</td>\n",
       "      <td>At least 14 people died and 17 others were inj...</td>\n",
       "      <td>http://www.ibtimes.co.in/14-dead-after-bus-fal...</td>\n",
       "    </tr>\n",
       "    <tr>\n",
       "      <th>1</th>\n",
       "      <td>1</td>\n",
       "      <td>Pratibha Tiwari molested on busy road   Saath ...</td>\n",
       "      <td>Suparno Sarkar</td>\n",
       "      <td>August 22, 2016 19:47 IST</td>\n",
       "      <td>TV actress Pratibha Tiwari  who is best known ...</td>\n",
       "      <td>NaN</td>\n",
       "    </tr>\n",
       "    <tr>\n",
       "      <th>2</th>\n",
       "      <td>2</td>\n",
       "      <td>US  South Korea begin joint military drill ami...</td>\n",
       "      <td>Namrata Tripathi</td>\n",
       "      <td>August 22, 2016 18:10 IST</td>\n",
       "      <td>The United States and South Korea began a join...</td>\n",
       "      <td>http://www.ibtimes.co.in/us-south-korea-begin-...</td>\n",
       "    </tr>\n",
       "    <tr>\n",
       "      <th>3</th>\n",
       "      <td>3</td>\n",
       "      <td>Illegal construction in Bengaluru  Will my hou...</td>\n",
       "      <td>S V Krishnamachari</td>\n",
       "      <td>August 22, 2016 17:39 IST</td>\n",
       "      <td>The relentless drive by Bengaluru s  Bangalore...</td>\n",
       "      <td>http://www.ibtimes.co.in/illegal-construction-...</td>\n",
       "    </tr>\n",
       "    <tr>\n",
       "      <th>4</th>\n",
       "      <td>4</td>\n",
       "      <td>Punjab Gau Rakshak Dal chief held for assaulti...</td>\n",
       "      <td>Pranshu Rathee</td>\n",
       "      <td>August 22, 2016 17:34 IST</td>\n",
       "      <td>Punjab Gau Raksha Dal chief Satish Kumar and h...</td>\n",
       "      <td>http://www.ibtimes.co.in/punjab-gau-rakshak-da...</td>\n",
       "    </tr>\n",
       "  </tbody>\n",
       "</table>\n",
       "</div>"
      ],
      "text/plain": [
       "   Article_Id                                              Title  \\\n",
       "0           0  14 dead after bus falls into canal in Telangan...   \n",
       "1           1  Pratibha Tiwari molested on busy road   Saath ...   \n",
       "2           2  US  South Korea begin joint military drill ami...   \n",
       "3           3  Illegal construction in Bengaluru  Will my hou...   \n",
       "4           4  Punjab Gau Rakshak Dal chief held for assaulti...   \n",
       "\n",
       "               Author                       Date  \\\n",
       "0    Devyani Sultania  August 22, 2016 12:34 IST   \n",
       "1      Suparno Sarkar  August 22, 2016 19:47 IST   \n",
       "2    Namrata Tripathi  August 22, 2016 18:10 IST   \n",
       "3  S V Krishnamachari  August 22, 2016 17:39 IST   \n",
       "4      Pranshu Rathee  August 22, 2016 17:34 IST   \n",
       "\n",
       "                                             Content  \\\n",
       "0  At least 14 people died and 17 others were inj...   \n",
       "1  TV actress Pratibha Tiwari  who is best known ...   \n",
       "2  The United States and South Korea began a join...   \n",
       "3  The relentless drive by Bengaluru s  Bangalore...   \n",
       "4  Punjab Gau Raksha Dal chief Satish Kumar and h...   \n",
       "\n",
       "                                                 URL  \n",
       "0  http://www.ibtimes.co.in/14-dead-after-bus-fal...  \n",
       "1                                                NaN  \n",
       "2  http://www.ibtimes.co.in/us-south-korea-begin-...  \n",
       "3  http://www.ibtimes.co.in/illegal-construction-...  \n",
       "4  http://www.ibtimes.co.in/punjab-gau-rakshak-da...  "
      ]
     },
     "execution_count": 3,
     "metadata": {},
     "output_type": "execute_result"
    }
   ],
   "source": [
    "news_articles = pd.read_csv(PATH_NEWS_ARTICLES)\n",
    "news_articles.head()"
   ]
  },
  {
   "cell_type": "code",
   "execution_count": 4,
   "metadata": {},
   "outputs": [
    {
     "data": {
      "text/plain": [
       "'At least 14 people died and 17 others were injured after a bus travelling from Hyderabad to Kakinada plunged into a canal from a bridge on the accident-prone stretch of the Hyderabad-Khammam highway in Telangana early Monday morning \\nThe injured were admitted to the Government General Hospital for treatment \\n\\n\\nSeven people died on the spot and the others succumbed to injuries while undergoing treatment at the hospital  The passengers belonged to the East and West Godavari districts of Andhra Pradesh \\nThe bus  owned by private operator Yatra Genie  commenced its journey from Hyderabad at 11 30 p m  on Sunday  Khammam Superintendent of Police Shah Nawaz Khan was quoted by the Hindustan Times as saying \\nThe accident happened around 2 30 a m  when the driver slammed the brakes to avoid a collision with another vehicle coming from the opposite direction on a bridge over Nagarjunsagar project left canal at Nayankangudem village in Khammam district  the daily reported  The bus hit the parapet wall of the bridge and nose-dived into the canal \\nThe driver of the bus was apparently driving at high speed due to which he lost control of the vehicle  following which it fell into the canal under Kusumanchi mandal  the Deccan Herald reported \\nTravellers immediately informed the police who rushed to the accident scene and began the rescue operations '"
      ]
     },
     "execution_count": 4,
     "metadata": {},
     "output_type": "execute_result"
    }
   ],
   "source": [
    "#Select relevant columns and remove rows with missing values\n",
    "news_articles = news_articles[['Article_Id','Title','Content']].dropna()\n",
    "#articles is a list of all articles\n",
    "articles = news_articles['Content'].tolist()\n",
    "articles[0] #an uncleaned article"
   ]
  },
  {
   "cell_type": "code",
   "execution_count": 5,
   "metadata": {
    "collapsed": true
   },
   "outputs": [],
   "source": [
    "def clean_tokenize(document):\n",
    "    document = re.sub('[^\\w_\\s-]', ' ',document)       #remove punctuation marks and other symbols\n",
    "    tokens = nltk.word_tokenize(document)              #Tokenize sentences\n",
    "    cleaned_article = ' '.join([stemmer.stem(item) for item in tokens])    #Stemming each token\n",
    "    return cleaned_article"
   ]
  },
  {
   "cell_type": "code",
   "execution_count": 6,
   "metadata": {},
   "outputs": [
    {
     "data": {
      "text/plain": [
       "u'at least 14 peopl die and 17 other were injur after a bus travel from hyderabad to kakinada plung into a canal from a bridg on the accident-pron stretch of the hyderabad-khammam highway in telangana earli monday morn the injur were admit to the govern general hospit for treatment seven peopl die on the spot and the other succumb to injuri while undergo treatment at the hospit the passeng belong to the east and west godavari district of andhra pradesh the bus own by privat oper yatra geni commenc it journey from hyderabad at 11 30 p m on sunday khammam superintend of polic shah nawaz khan was quot by the hindustan time as say the accid happen around 2 30 a m when the driver slam the brake to avoid a collis with anoth vehicl come from the opposit direct on a bridg over nagarjunsagar project left canal at nayankangudem villag in khammam district the daili report the bus hit the parapet wall of the bridg and nose-div into the canal the driver of the bus was appar drive at high speed due to which he lost control of the vehicl follow which it fell into the canal under kusumanchi mandal the deccan herald report travel immedi inform the polic who rush to the accid scene and began the rescu oper'"
      ]
     },
     "execution_count": 6,
     "metadata": {},
     "output_type": "execute_result"
    }
   ],
   "source": [
    "cleaned_articles = map(clean_tokenize, articles)\n",
    "cleaned_articles[0]  #a cleaned, tokenized and stemmed article "
   ]
  },
  {
   "cell_type": "markdown",
   "metadata": {},
   "source": [
    "# 2. Represent user in terms of read articles associated words\n"
   ]
  },
  {
   "cell_type": "code",
   "execution_count": 7,
   "metadata": {
    "collapsed": true
   },
   "outputs": [],
   "source": [
    "#Get user representation in terms of words associated with read articles\n",
    "user_articles = ' '.join(cleaned_articles[i] for i in ARTICLES_READ)"
   ]
  },
  {
   "cell_type": "code",
   "execution_count": 8,
   "metadata": {
    "scrolled": true
   },
   "outputs": [
    {
     "data": {
      "text/plain": [
       "u'the unit state and south korea began a joint militari drill on monday which prompt threat from north korea the latter has late receiv strong critic worldwid for defi sanction from the unit nation secur council unsc by launch sever ballist missil such action have led to tighter sanction for north korea by the un north korea consid the joint militari drill as prepar for invas and has threaten a pre-empt nuclear strike if the u s and south korea continu the oper it had also conduct a nuclear test in januari which further isol it the ulchi freedom guardian exercis will continu till sept 2 and around 25 000 u s troop are expect to join it the us-l un command militari armistic commiss said that it had notifi the north korean armi that the joint militari drill between the two nation was not provoc from this moment the first-strik combin unit of the korean peopl s armi keep themselv fulli readi to mount a preemptiv retaliatori strike at all enemi attack group involv in ulji freedom guardian a kpa spokesman said in a statement it was recent announc by south korea that the north s deputi ambassador in london had defect and arriv in seoul along with his famili the move dealt a blow to kim jong un the leader of the north korean regim prime minist narendra modi has express deep concern and pain at the unrest and unab violenc in kashmir modi has urg all polit parti to unanim support a perman and last solut within the framework of the constitut to the problem of jammu and kashmir prime minist modi highlight the need for dialogu for restor of normalci in the valley as the unrest that began sinc the kill of hizb-ul-mujahideen leader burhan wani on juli 8 enter the 45th day so far 68 peopl have been kill a 75-minute-long meet with a joint 20-member opposit deleg that was led by former j k chief minist omar abdullah and addit compris seven of abdullah s nation confer mlas along with congress legisl led by pcc chief g a mir and cpi m mla m y tarigami present a memorandum to prime minist modi they collect made an appeal for a polit approach to resolv the crisi in the valley and to ensur that the mistak of the past are not repeat modi appreci the construct suggest and reiter his govern s commit to the welfar and develop of the peopl of kashmir and said those who lost their live dure recent disturb are part of us our nation whether the live lost are of our youth secur personnel or polic it distress us govern and the nation stand with the state of jammu and kashmir 10 11 12 13 14 15'"
      ]
     },
     "execution_count": 8,
     "metadata": {},
     "output_type": "execute_result"
    }
   ],
   "source": [
    "user_articles"
   ]
  },
  {
   "cell_type": "markdown",
   "metadata": {},
   "source": [
    "# 3. Generate TF-IDF matrix for user read articles and unread articles\n"
   ]
  },
  {
   "cell_type": "code",
   "execution_count": 9,
   "metadata": {},
   "outputs": [
    {
     "data": {
      "text/plain": [
       "<4831x16009 sparse matrix of type '<type 'numpy.float64'>'\n",
       "\twith 468648 stored elements in Compressed Sparse Row format>"
      ]
     },
     "execution_count": 9,
     "metadata": {},
     "output_type": "execute_result"
    }
   ],
   "source": [
    "#Generate tfidf matrix model for entire corpus\n",
    "tfidf_matrix = TfidfVectorizer(stop_words='english', min_df=2)\n",
    "article_tfidf_matrix = tfidf_matrix.fit_transform(cleaned_articles)\n",
    "article_tfidf_matrix #tfidf vector of an article"
   ]
  },
  {
   "cell_type": "code",
   "execution_count": 10,
   "metadata": {},
   "outputs": [
    {
     "data": {
      "text/plain": [
       "<1x16009 sparse matrix of type '<type 'numpy.float64'>'\n",
       "\twith 188 stored elements in Compressed Sparse Row format>"
      ]
     },
     "execution_count": 10,
     "metadata": {},
     "output_type": "execute_result"
    }
   ],
   "source": [
    "#Generate tfidf matrix model for read articles\n",
    "user_article_tfidf_vector = tfidf_matrix.transform([user_articles])\n",
    "user_article_tfidf_vector"
   ]
  },
  {
   "cell_type": "code",
   "execution_count": 11,
   "metadata": {},
   "outputs": [
    {
     "data": {
      "text/plain": [
       "array([[ 0.        ,  0.03127116,  0.        , ...,  0.        ,\n",
       "         0.        ,  0.        ]])"
      ]
     },
     "execution_count": 11,
     "metadata": {},
     "output_type": "execute_result"
    }
   ],
   "source": [
    "user_article_tfidf_vector.toarray()"
   ]
  },
  {
   "cell_type": "markdown",
   "metadata": {},
   "source": [
    "# 4. Calculate cosine similarity between user read articles and unread articles \n",
    "\n"
   ]
  },
  {
   "cell_type": "code",
   "execution_count": 12,
   "metadata": {},
   "outputs": [],
   "source": [
    "articles_similarity_score=cosine_similarity(article_tfidf_matrix, user_article_tfidf_vector)"
   ]
  },
  {
   "cell_type": "code",
   "execution_count": 13,
   "metadata": {
    "collapsed": true
   },
   "outputs": [],
   "source": [
    "recommended_articles_id = articles_similarity_score.flatten().argsort()[::-1]"
   ]
  },
  {
   "cell_type": "code",
   "execution_count": 14,
   "metadata": {},
   "outputs": [
    {
     "data": {
      "text/plain": [
       "array([   2,    7, 3326, ...,  210,  622,  262])"
      ]
     },
     "execution_count": 14,
     "metadata": {},
     "output_type": "execute_result"
    }
   ],
   "source": [
    "recommended_articles_id"
   ]
  },
  {
   "cell_type": "code",
   "execution_count": 15,
   "metadata": {
    "collapsed": true
   },
   "outputs": [],
   "source": [
    "#Remove read articles from recommendations\n",
    "final_recommended_articles_id = [article_id for article_id in recommended_articles_id \n",
    "                                 if article_id not in ARTICLES_READ ][:NUM_RECOMMENDED_ARTICLES]"
   ]
  },
  {
   "cell_type": "markdown",
   "metadata": {},
   "source": [
    "# 5. Get the recommended articles "
   ]
  },
  {
   "cell_type": "code",
   "execution_count": 16,
   "metadata": {},
   "outputs": [
    {
     "data": {
      "text/plain": [
       "[3326, 2862, 2808, 2724, 2950]"
      ]
     },
     "execution_count": 16,
     "metadata": {},
     "output_type": "execute_result"
    }
   ],
   "source": [
    "final_recommended_articles_id"
   ]
  },
  {
   "cell_type": "code",
   "execution_count": 17,
   "metadata": {},
   "outputs": [
    {
     "name": "stdout",
     "output_type": "stream",
     "text": [
      "Articles Read\n",
      "2    US  South Korea begin joint military drill ami...\n",
      "7    Dialogue crucial in finding permanent solution...\n",
      "Name: Title, dtype: object\n",
      "\n",
      "\n",
      "Recommender \n",
      "2724    PM Modi says at all-party meeting that PoK is ...\n",
      "2808    J K  CM Mufti blames  vested interests  for Ka...\n",
      "2862    J K  PM Modi appeals for peace in Valley  assu...\n",
      "2950    Kashmir  Death toll rises to 8 in protests ove...\n",
      "3326    US  China to  fully implement  sanctions again...\n",
      "Name: Title, dtype: object\n"
     ]
    }
   ],
   "source": [
    "#Recommended Articles and their title\n",
    "print 'Articles Read'\n",
    "print news_articles.loc[news_articles['Article_Id'].isin(ARTICLES_READ)]['Title']\n",
    "print '\\n'\n",
    "print 'Recommender '\n",
    "print news_articles.loc[news_articles['Article_Id'].isin(final_recommended_articles_id)]['Title']"
   ]
  },
  {
   "cell_type": "code",
   "execution_count": null,
   "metadata": {
    "collapsed": true
   },
   "outputs": [],
   "source": []
  }
 ],
 "metadata": {
  "anaconda-cloud": {},
  "kernelspec": {
   "display_name": "Python 3",
   "language": "python",
   "name": "python3"
  },
  "language_info": {
   "codemirror_mode": {
    "name": "ipython",
    "version": 3
   },
   "file_extension": ".py",
   "mimetype": "text/x-python",
   "name": "python",
   "nbconvert_exporter": "python",
   "pygments_lexer": "ipython3",
   "version": "3.6.3"
  }
 },
 "nbformat": 4,
 "nbformat_minor": 1
}
